{
    "metadata": {
        "kernelspec": {
            "name": "SQL",
            "display_name": "SQL",
            "language": "sql"
        },
        "language_info": {
            "name": "sql",
            "version": ""
        }
    },
    "nbformat_minor": 2,
    "nbformat": 4,
    "cells": [
        {
            "cell_type": "markdown",
            "source": [
                "# Create Person Table"
            ],
            "metadata": {
                "azdata_cell_guid": "97f161f8-9f00-4ac0-b0aa-6a251eeb789e"
            }
        },
        {
            "cell_type": "code",
            "source": [
                "CREATE TABLE dbo.people\r\n",
                "  (\r\n",
                "     person_id         INT IDENTITY(1, 1) PRIMARY KEY,\r\n",
                "     person_firstname  NVARCHAR(50) NULL,\r\n",
                "     person_lastname   NVARCHAR(50) NULL,\r\n",
                "     person_email      NVARCHAR(255) NULL,\r\n",
                "     person_address    NVARCHAR(100) NULL,\r\n",
                "     person_city       NVARCHAR(50) NULL,\r\n",
                "     person_province   NVARCHAR(2) NULL,\r\n",
                "     person_postalcode NVARCHAR(7) NULL\r\n",
                "  ); "
            ],
            "metadata": {
                "azdata_cell_guid": "cc32add7-616b-4464-9575-cd3a79937c4c"
            },
            "outputs": [],
            "execution_count": null
        }
    ]
}