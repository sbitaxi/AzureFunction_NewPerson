{
    "metadata": {
        "kernelspec": {
            "name": "SQL",
            "display_name": "SQL",
            "language": "sql"
        },
        "language_info": {
            "name": "sql",
            "version": ""
        }
    },
    "nbformat_minor": 2,
    "nbformat": 4,
    "cells": [
        {
            "cell_type": "markdown",
            "source": [
                "# Create Person Table"
            ],
            "metadata": {
                "azdata_cell_guid": "97f161f8-9f00-4ac0-b0aa-6a251eeb789e"
            }
        },
        {
            "cell_type": "code",
            "source": [
                "CREATE TABLE dbo.people\r\n",
                "  (\r\n",
                "     person_id         INT IDENTITY(1, 1) PRIMARY KEY,\r\n",
                "     person_firstname  NVARCHAR(50) NULL,\r\n",
                "     person_lastname   NVARCHAR(50) NULL,\r\n",
                "     person_email      NVARCHAR(255) NULL,\r\n",
                "     person_address    NVARCHAR(100) NULL,\r\n",
                "     person_city       NVARCHAR(50) NULL,\r\n",
                "     person_province   NVARCHAR(2) NULL,\r\n",
                "     person_postalcode NVARCHAR(7) NULL\r\n",
                "  );"
            ],
            "metadata": {
                "azdata_cell_guid": "cc32add7-616b-4464-9575-cd3a79937c4c",
                "tags": []
            },
            "outputs": [],
            "execution_count": null
        },
        {
            "cell_type": "markdown",
            "source": [
                "# Create Stored Procedure\r\n",
                "This stored procedure will receive input from an Azure Function and INSERT a new row into the [dbo].[people] table."
            ],
            "metadata": {
                "azdata_cell_guid": "86deec67-1921-4942-afd6-97b05f3b9357"
            }
        },
        {
            "cell_type": "code",
            "source": [
                "CREATE PROCEDURE [dbo].[AddNewPerson]\r\n",
                "(\r\n",
                "    @FirstName  nvarchar(50)    = NULL,\r\n",
                "    @LastName   nvarchar(50)    = NULL,\r\n",
                "    @Email      nvarchar(255)   = NULL,\r\n",
                "    @Address    nvarchar(100)   = NULL,\r\n",
                "    @City       nvarchar(50)    = NULL,\r\n",
                "    @Province   nvarchar(2)     = NULL,\r\n",
                "    @PostalCode nvarchar(7)     = NULL\r\n",
                "    )\r\n",
                "    AS\r\n",
                "        BEGIN\r\n",
                "        BEGIN TRY\r\n",
                "            BEGIN TRANSACTION INSERT_NEW_PERSON\r\n",
                "                /*  \r\n",
                "                 Try to insert the new record\r\n",
                "                 into the [dbo].[people] table\r\n",
                "                 */\r\n",
                "                INSERT INTO [dbo].[people]\r\n",
                "                (\r\n",
                "                    person_firstname,\r\n",
                "                    person_lastname,\r\n",
                "                    person_email,\r\n",
                "                    person_address,\r\n",
                "                    person_city,\r\n",
                "                    person_province,\r\n",
                "                    person_postalcode\r\n",
                "                    )\r\n",
                "                    VALUES\r\n",
                "                    (\r\n",
                "                    @FirstName,\r\n",
                "                    @LastName,\r\n",
                "                    @Email,\r\n",
                "                    @Address,\r\n",
                "                    @City,\r\n",
                "                    @Province,\r\n",
                "                    @PostalCode\r\n",
                "                    );\r\n",
                "                COMMIT TRANSACTION INSERT_NEW_PERSON\r\n",
                "        END TRY\r\n",
                "    BEGIN CATCH\r\n",
                "        IF (XACT_STATE()) = -1\r\n",
                "        BEGIN\r\n",
                "            /*\r\n",
                "                If the trasaction fails to commit, \r\n",
                "                Roll it back and report the error.\r\n",
                "            */\r\n",
                "            ROLLBACK TRANSACTION INSERT_NEW_PERSON;\r\n",
                "        END;\r\n",
                "        SELECT  \r\n",
                "            ERROR_NUMBER() AS ErrorNumber  \r\n",
                "            ,ERROR_SEVERITY() AS ErrorSeverity  \r\n",
                "            ,ERROR_STATE() AS ErrorState  \r\n",
                "            ,ERROR_PROCEDURE() AS ErrorProcedure  \r\n",
                "            ,ERROR_LINE() AS ErrorLine  \r\n",
                "            ,ERROR_MESSAGE() AS ErrorMessage;  \r\n",
                "    END CATCH\r\n",
                "END;\r\n",
                "GO"
            ],
            "metadata": {
                "azdata_cell_guid": "76621284-2e6b-4d75-b2b7-ee834e69f902"
            },
            "outputs": [],
            "execution_count": null
        },
        {
            "cell_type": "markdown",
            "source": [
                "# Security\r\n",
                "Add the Azure AD Security Group as a User\r\n",
                "\r\n",
                "Create the database Role with EXECUTE permission on the [dbo].[AddNewPerson] Stored Procedure\r\n",
                "\r\n",
                "Add the Azure AD Security Group as a Member of the Rol"
            ],
            "metadata": {
                "azdata_cell_guid": "e2f77764-510f-4b06-96a4-bbfd7b1d0f95"
            }
        },
        {
            "cell_type": "code",
            "source": [
                "-- Grant access to the database to the Azure AD Security Group\r\n",
                "CREATE USER [PeopleDB_ManagedIdentities] FROM EXTERNAL PROVIDER;\r\n",
                "GO\r\n",
                "\r\n",
                "-- Add the role for the Managed Identities User Group\r\n",
                "CREATE ROLE [PersonCreator_ManagedIdentities];\r\n",
                "GO\r\n",
                "\r\n",
                "-- Allow the role to EXECUTE the [dbo].[AddNewPerson] stored procedure\r\n",
                "GRANT EXECUTE ON OBJECT::[dbo].[AddNewPerson] TO [PersonCreator_ManagedIdentities];\r\n",
                "GO\r\n",
                "\r\n",
                "-- Add the Managed Identities Security Group as Member of the Role\r\n",
                "ALTER ROLE [PersonCreator_ManagedIdentities] ADD MEMBER [PeopleDB_ManagedIdentities];\r\n",
                "GO\r\n",
                ""
            ],
            "metadata": {
                "azdata_cell_guid": "701fec8a-168e-4ffb-aea9-6b9ede67c23a"
            },
            "outputs": [
                {
                    "output_type": "display_data",
                    "data": {
                        "text/html": "Commands completed successfully."
                    },
                    "metadata": {}
                },
                {
                    "output_type": "display_data",
                    "data": {
                        "text/html": "Commands completed successfully."
                    },
                    "metadata": {}
                },
                {
                    "output_type": "display_data",
                    "data": {
                        "text/html": "Commands completed successfully."
                    },
                    "metadata": {}
                },
                {
                    "output_type": "display_data",
                    "data": {
                        "text/html": "Commands completed successfully."
                    },
                    "metadata": {}
                },
                {
                    "output_type": "display_data",
                    "data": {
                        "text/html": "Total execution time: 00:00:00.646"
                    },
                    "metadata": {}
                }
            ],
            "execution_count": 1
        }
    ]
}